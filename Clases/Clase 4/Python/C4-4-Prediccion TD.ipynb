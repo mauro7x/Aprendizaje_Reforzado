{
 "cells": [
  {
   "cell_type": "markdown",
   "metadata": {},
   "source": [
    "## El objetivo de este ejercicio es calcular la función de valor de una política dada usando Diferencias Temporales.\n",
    "<img src=\"Prediccion_TD.PNG\">"
   ]
  },
  {
   "cell_type": "code",
   "execution_count": 1,
   "metadata": {},
   "outputs": [],
   "source": [
    "%matplotlib inline\n",
    "\n",
    "import gym\n",
    "import matplotlib\n",
    "import numpy as np\n",
    "\n",
    "from collections import defaultdict\n",
    "import itertools\n",
    "\n",
    "# en caso de correrlo en google colab\n",
    "# de esta manera podremos tener la carpeta lib (donde se encuentra en ambiente Gridworld)\n",
    "\n",
    "import sys\n",
    "#if \"../\" not in sys.path:\n",
    "#  sys.path.append(\"../\") \n",
    "\n",
    "#!git clone https://github.com/julianfm7/cursoRL-FIUBA\n",
    "\n",
    "# necesario en google colab para que sys.path busque\n",
    "# y encuentre la carpeta lib donde se encuentra el ambiente Gridworld\n",
    "\n",
    "#!mv cursoRL-FIUBA cursoRLFIUBA\n",
    "\n",
    "#import numpy as np\n",
    "from lib.envs.gridworld import GridworldEnv\n",
    "\n",
    "from lib import plotting\n",
    "\n",
    "matplotlib.style.use('ggplot')"
   ]
  },
  {
   "cell_type": "code",
   "execution_count": 2,
   "metadata": {},
   "outputs": [],
   "source": [
    "env = GridworldEnv()"
   ]
  },
  {
   "cell_type": "code",
   "execution_count": 15,
   "metadata": {},
   "outputs": [],
   "source": [
    "def td_prediction(policy, env, num_episodes, discount_factor=1.0, alpha=0.01):\n",
    "    \"\"\"\n",
    "    Algoritmo de predicción por diferencias temporales.\n",
    "    Calcula la función de valor dada una política utilizando diferencias temporales para los updates.\n",
    "    \n",
    "    Argumentos:\n",
    "        policy: Una función que dada una observación toma una acción\n",
    "        env: ambiente de OpenAI gym.\n",
    "        num_episodes: número de episodios para samplear en total.\n",
    "        discount_factor: factor de descuento gama.\n",
    "    \n",
    "    Returns:\n",
    "    Retorna:\n",
    "        Un diccionario que mapea de estado -> valor\n",
    "    \"\"\"\n",
    "    # la función de valor final\n",
    "    V = defaultdict(float)\n",
    "    \n",
    "    # por cada episodio desde 1 hasta el número de episodios\n",
    "    for num_episode in range(num_episodes):\n",
    "        # hacer print del número de episodio si es múltiplo de 1000 para observar el avance\n",
    "        if num_episode % 1000 == 0:\n",
    "            print(\"\\rEpisodio {}/{}.\".format(num_episode, num_episodes), end=\"\")\n",
    "            sys.stdout.flush()\n",
    "            \n",
    "        episode = []\n",
    "        # resetear el ambiente, obtener el primer estado\n",
    "        state = env.reset()\n",
    "        \n",
    "        # mientras no lleguemos estado terminal\n",
    "        while (state not in [0, 15]): # estados terminales 0 y 15\n",
    "            # obtener la próxima acción según la política\n",
    "            action = policy(state)\n",
    "            \n",
    "            # tomar la acción en el ambiente\n",
    "            new_state, reward, done, _ = env.step(action)\n",
    "            \n",
    "            # actualizar V según la fórmula de diferencias temporales\n",
    "            V[state] = V[state] + alpha*(reward + discount_factor*V[new_state] - V[state])\n",
    "            \n",
    "            # pasar al próximo estado\n",
    "            state = new_state\n",
    "            \n",
    "            \n",
    "            \n",
    "    # devolver la función de valor\n",
    "    return V    "
   ]
  },
  {
   "cell_type": "code",
   "execution_count": 16,
   "metadata": {},
   "outputs": [],
   "source": [
    "def sample_policy(observation):\n",
    "    \"\"\"\n",
    "    Política aleatoria\n",
    "    \"\"\"\n",
    "    return np.random.choice(4)"
   ]
  },
  {
   "cell_type": "code",
   "execution_count": 17,
   "metadata": {},
   "outputs": [
    {
     "name": "stdout",
     "output_type": "stream",
     "text": [
      "Episodio 499000/500000."
     ]
    }
   ],
   "source": [
    "V = td_prediction(sample_policy, env, num_episodes=500000)"
   ]
  },
  {
   "cell_type": "code",
   "execution_count": 18,
   "metadata": {
    "scrolled": true
   },
   "outputs": [
    {
     "name": "stdout",
     "output_type": "stream",
     "text": [
      "defaultdict(<class 'float'>, {1: -15.457973915843407, 2: -20.857866422785612, 5: -18.587483136660236, 0: 0.0, 11: -12.452316749376825, 7: -20.29437517462741, 15: 0.0, 10: -17.752916674528354, 6: -20.343652686530433, 14: -13.3305793102983, 13: -20.03385962319272, 12: -21.79774640707365, 8: -20.00411611194708, 4: -14.157780521552041, 9: -20.06907477377183, 3: -22.434779205584373})\n"
     ]
    }
   ],
   "source": [
    "print(V)"
   ]
  },
  {
   "cell_type": "code",
   "execution_count": 20,
   "metadata": {},
   "outputs": [
    {
     "name": "stdout",
     "output_type": "stream",
     "text": [
      "0.0\n",
      "-15.457973915843407\n",
      "-20.857866422785612\n",
      "-22.434779205584373\n",
      "-14.157780521552041\n",
      "-18.587483136660236\n",
      "-20.343652686530433\n",
      "-20.29437517462741\n",
      "-20.00411611194708\n",
      "-20.06907477377183\n",
      "-17.752916674528354\n",
      "-12.452316749376825\n",
      "-21.79774640707365\n",
      "-20.03385962319272\n",
      "-13.3305793102983\n",
      "0.0\n"
     ]
    }
   ],
   "source": [
    "for i in range(16):\n",
    "    print(V[i])"
   ]
  },
  {
   "cell_type": "code",
   "execution_count": null,
   "metadata": {},
   "outputs": [],
   "source": [
    "# deberia ser:\n",
    "np.array([0, -14, -20, -22, -14, -18, -20, -20, -20, -20, -18, -14, -22, -20, -14, 0])"
   ]
  }
 ],
 "metadata": {
  "kernelspec": {
   "display_name": "Python 3",
   "language": "python",
   "name": "python3"
  },
  "language_info": {
   "codemirror_mode": {
    "name": "ipython",
    "version": 3
   },
   "file_extension": ".py",
   "mimetype": "text/x-python",
   "name": "python",
   "nbconvert_exporter": "python",
   "pygments_lexer": "ipython3",
   "version": "3.6.9"
  }
 },
 "nbformat": 4,
 "nbformat_minor": 2
}
