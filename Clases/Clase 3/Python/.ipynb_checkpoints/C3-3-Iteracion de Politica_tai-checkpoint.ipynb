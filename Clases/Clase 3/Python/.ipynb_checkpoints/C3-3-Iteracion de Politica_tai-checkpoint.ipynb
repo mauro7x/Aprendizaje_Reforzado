{
 "cells": [
  {
   "cell_type": "markdown",
   "metadata": {},
   "source": [
    "# Evaluación y mejora\n",
    "\n",
    "<img src=\"evaluacionymejora.png\">\n",
    "<img src=\"mejora.png\">"
   ]
  },
  {
   "cell_type": "markdown",
   "metadata": {},
   "source": [
    "# Iteración de política:(del libro de Sutton)\n",
    "\n",
    "<img src=\"iteracion de politica.PNG\">\n",
    "\n",
    "Implementar el algoritmo de mejora de iteración de política."
   ]
  },
  {
   "cell_type": "code",
   "execution_count": null,
   "metadata": {},
   "outputs": [],
   "source": [
    "# en caso de correrlo en google colab\n",
    "# de esta manera podremos tener la carpeta lib (donde se encuentra en ambiente Gridworld)\n",
    "\n",
    "import sys\n",
    "#if \"../\" not in sys.path:\n",
    "#  sys.path.append(\"../\") \n",
    "\n",
    "!git clone https://github.com/julianfm7/cursoRL-FIUBA\n",
    "\n",
    "# necesario en google colab para que sys.path busque\n",
    "# y encuentre la carpeta lib donde se encuentra el ambiente Gridworld\n",
    "\n",
    "!mv cursoRL-FIUBA cursoRLFIUBA"
   ]
  },
  {
   "cell_type": "code",
   "execution_count": 1,
   "metadata": {},
   "outputs": [],
   "source": [
    "import numpy as np\n",
    "import pprint\n",
    "\n",
    "from lib.envs.gridworld import GridworldEnv"
   ]
  },
  {
   "cell_type": "code",
   "execution_count": 2,
   "metadata": {},
   "outputs": [],
   "source": [
    "pp = pprint.PrettyPrinter(indent=2)\n",
    "env = GridworldEnv()"
   ]
  },
  {
   "cell_type": "code",
   "execution_count": 3,
   "metadata": {},
   "outputs": [],
   "source": [
    "def policy_eval(policy, env, discount_factor=1.0, theta=0.00001):\n",
    "    \"\"\"\n",
    "    Evaluar una política dado un ambiente y una descripción completa\n",
    "    de la dinámica del ambiente.\n",
    "    \n",
    "    Argumentos:\n",
    "        política: matriz de tamaño [S, A] representando la política.\n",
    "        env: ambiente de OpenAI representadno las probabilidades de transición\n",
    "        del ambiente. \n",
    "        env.P[s][a] es una lista de tuplas (probabilidad, próximo_estado, recompensa, done)\n",
    "        env.nS es el número de estados en el ambiente\n",
    "        env.nA es el número de acciones en el ambiente\n",
    "        theta: para la evaluación de la política una vez que la función de valor cambia menos que\n",
    "        theta para todos los estados\n",
    "        discount_factor: factor de descuento gama.\n",
    "        \n",
    "    Retorna:\n",
    "        Vector de longitud env.nS que representa la función de valor.\n",
    "    \"\"\"\n",
    "    # Empezar con función de valor nula\n",
    "    V = np.zeros(env.nS)\n",
    "    P = env.P\n",
    "    gamma = discount_factor\n",
    "    \n",
    "    while True:\n",
    "        \n",
    "        delta = 0\n",
    "        # por cada estado en el env [0,1,...,nS-1]:\n",
    "        for s in range(env.nS):\n",
    "            v = V[s]\n",
    "            # inicializar en 0 la funcion valor para ese estado\n",
    "            V[s] = 0\n",
    "            # por cada accion posible:\n",
    "            for a, transicion in P[s].items():\n",
    "                # por cada posible transicion dado ese estado-accion:\n",
    "                for tupla in transicion:\n",
    "                    # usar la formula para sumar el termino a la funcion valor del estado\n",
    "                    # guardar funcion valor para el estado\n",
    "                    # V(s) += π(a|s) * p_{s,s'} * ( r + gamma * V(s') )\n",
    "                    V[s] += policy[s][a]*tupla[0]*(tupla[2] + gamma*V[tupla[1]])\n",
    "            # usar una variable para guardar el cambio maximo de nueva funcion valor vs anterior \n",
    "            # funcion valor\n",
    "            delta = max(delta, abs(v - V[s]), 0)\n",
    "        # si el cambio maximo en el update de la funcion valor para todos los estados es menor\n",
    "        # a theta, parar\n",
    "        if delta < theta:\n",
    "            break\n",
    "    return np.array(V)"
   ]
  },
  {
   "cell_type": "code",
   "execution_count": 4,
   "metadata": {},
   "outputs": [],
   "source": [
    "def policy_improvement(env, policy_eval_fn=policy_eval, discount_factor=1.0):\n",
    "    \"\"\"\n",
    "    Algoritmo de mejora de una política. Evalúa iterativamente y mejora una política \n",
    "    hasta que encuentra la política óptima.\n",
    "    \n",
    "    Args:\n",
    "        env: ambiente de OpenAI.\n",
    "        policy_eval_fn: función de evaluación de política que toma 3 argumentos: policy, env, discount_factor\n",
    "        discount_factor: factor de descuento gama\n",
    "        \n",
    "    Retorna:\n",
    "        Un tuple (policy, V)\n",
    "        A tuple (policy, V). \n",
    "        policy es la política óptima, una matriz de tamaño [S, A] en que cada estado s contiene una distribución de probabilidad \n",
    "        valida sobre el espacio de acciones.\n",
    "        V es la función de valor para la política óptima.\n",
    "        \n",
    "    \"\"\"\n",
    "    # Comenzar con política aleatoria\n",
    "    policy = np.ones([env.nS, env.nA]) / env.nA\n",
    "    gamma = discount_factor\n",
    "    while True:\n",
    "        # Implementar\n",
    "        \n",
    "        # evaluar (i.e. calcular V, la función de valor de) la política actual\n",
    "        V = policy_eval_fn(policy, env)\n",
    "\n",
    "        # mantener una variable que indique si la política es estable (no cambió en este paso)\n",
    "        stable = True\n",
    "        # por cada estado:\n",
    "        for s in range(env.nS):\n",
    "            # encontrar cuál es la acción que tomaría la política actual con más \n",
    "            # alta probabilidad\n",
    "            most_likely_a = policy[s].argmax()\n",
    "            if all(policy[s] == policy[most_likely_a][0]):\n",
    "                most_likely_a = -1                \n",
    "\n",
    "            # calcular el valor esperado de cada acción utilizando la función de valor actual \n",
    "            # haciendo 'one-step look-ahead'\n",
    "            # encontrar la acción con mayor valor esperado dado del cálculo anterior\n",
    "            posibles_retornos = []\n",
    "            for a, lista_transiciones in env.P[s].items():\n",
    "                valor_retorno = 0\n",
    "                for transicion in lista_transiciones:\n",
    "                    valor_retorno += transicion[0]*(transicion[2] + gamma*V[transicion[1]])\n",
    "                posibles_retornos.append(valor_retorno)\n",
    "            accion_optima = np.array(posibles_retornos).argmax()\n",
    "            \n",
    "            politica_optima_s = np.array([1 if a == accion_optima else 0 for a in range(env.nA)])\n",
    "            \n",
    "            # si la acción de la política actual no coincide con la mejor calculada\n",
    "            if most_likely_a != accion_optima or\\\n",
    "                    any(politica_optima_s != policy[s]):\n",
    "                # actualizar la política\n",
    "                policy[s] = politica_optima_s\n",
    "                # marcar que la política no fue estable en este paso\n",
    "                stable = False\n",
    "    \n",
    "        # si la política es estable, devolver la política óptima y la función de valor de esa política\n",
    "        if stable is True:\n",
    "            return policy, V"
   ]
  },
  {
   "cell_type": "code",
   "execution_count": 5,
   "metadata": {},
   "outputs": [],
   "source": [
    "a = np.array([1,2])\n",
    "b = np.array([1,2])"
   ]
  },
  {
   "cell_type": "code",
   "execution_count": 6,
   "metadata": {
    "scrolled": false
   },
   "outputs": [
    {
     "name": "stdout",
     "output_type": "stream",
     "text": [
      "Distribución de probabilidad de la política:\n",
      "[[1. 0. 0. 0.]\n",
      " [0. 0. 0. 1.]\n",
      " [0. 1. 0. 0.]\n",
      " [1. 0. 0. 0.]\n",
      " [1. 0. 0. 0.]\n",
      " [1. 0. 0. 0.]\n",
      " [1. 0. 0. 0.]\n",
      " [1. 0. 0. 0.]\n",
      " [1. 0. 0. 0.]\n",
      " [1. 0. 0. 0.]\n",
      " [0. 1. 0. 0.]\n",
      " [0. 0. 1. 0.]\n",
      " [1. 0. 0. 0.]\n",
      " [0. 1. 0. 0.]\n",
      " [0. 1. 0. 0.]\n",
      " [1. 0. 0. 0.]]\n",
      "\n",
      "Política exhibida la grilla: (0=arriba, 1=derecha, 2=abajo, 3=izquierda)\n",
      "[[0 3 1 0]\n",
      " [0 0 0 0]\n",
      " [0 0 1 2]\n",
      " [0 1 1 0]]\n",
      "\n",
      "Función de valor:\n",
      "[ 0. -1. -2. -1. -1. -2. -3. -2. -2. -3. -2. -1. -3. -2. -1.  0.]\n",
      "\n",
      "Función de valor exhibida en la grilla:\n",
      "[[ 0. -1. -2. -1.]\n",
      " [-1. -2. -3. -2.]\n",
      " [-2. -3. -2. -1.]\n",
      " [-3. -2. -1.  0.]]\n",
      "\n"
     ]
    }
   ],
   "source": [
    "policy, v = policy_improvement(env)\n",
    "print(\"Distribución de probabilidad de la política:\")\n",
    "print(policy)\n",
    "print(\"\")\n",
    "\n",
    "print(\"Política exhibida la grilla: (0=arriba, 1=derecha, 2=abajo, 3=izquierda)\")\n",
    "print(np.reshape(np.argmax(policy, axis=1), env.shape))\n",
    "print(\"\")\n",
    "\n",
    "print(\"Función de valor:\")\n",
    "print(v)\n",
    "print(\"\")\n",
    "\n",
    "print(\"Función de valor exhibida en la grilla:\")\n",
    "print(v.reshape(env.shape))\n",
    "print(\"\")\n",
    "\n"
   ]
  },
  {
   "cell_type": "code",
   "execution_count": 7,
   "metadata": {},
   "outputs": [
    {
     "ename": "AssertionError",
     "evalue": "\nArrays are not almost equal to 2 decimals\n\nMismatched elements: 1 / 16 (6.25%)\nMax absolute difference: 2.\nMax relative difference: 0.66666667\n x: array([ 0., -1., -2., -1., -1., -2., -3., -2., -2., -3., -2., -1., -3.,\n       -2., -1.,  0.])\n y: array([ 0, -1, -2, -3, -1, -2, -3, -2, -2, -3, -2, -1, -3, -2, -1,  0])",
     "output_type": "error",
     "traceback": [
      "\u001b[0;31m---------------------------------------------------------------------------\u001b[0m",
      "\u001b[0;31mAssertionError\u001b[0m                            Traceback (most recent call last)",
      "\u001b[0;32m<ipython-input-7-302e1b80afc1>\u001b[0m in \u001b[0;36m<module>\u001b[0;34m\u001b[0m\n\u001b[1;32m      1\u001b[0m \u001b[0;31m# Test de la función de valor\u001b[0m\u001b[0;34m\u001b[0m\u001b[0;34m\u001b[0m\u001b[0;34m\u001b[0m\u001b[0m\n\u001b[1;32m      2\u001b[0m \u001b[0mexpected_v\u001b[0m \u001b[0;34m=\u001b[0m \u001b[0mnp\u001b[0m\u001b[0;34m.\u001b[0m\u001b[0marray\u001b[0m\u001b[0;34m(\u001b[0m\u001b[0;34m[\u001b[0m \u001b[0;36m0\u001b[0m\u001b[0;34m,\u001b[0m \u001b[0;34m-\u001b[0m\u001b[0;36m1\u001b[0m\u001b[0;34m,\u001b[0m \u001b[0;34m-\u001b[0m\u001b[0;36m2\u001b[0m\u001b[0;34m,\u001b[0m \u001b[0;34m-\u001b[0m\u001b[0;36m3\u001b[0m\u001b[0;34m,\u001b[0m \u001b[0;34m-\u001b[0m\u001b[0;36m1\u001b[0m\u001b[0;34m,\u001b[0m \u001b[0;34m-\u001b[0m\u001b[0;36m2\u001b[0m\u001b[0;34m,\u001b[0m \u001b[0;34m-\u001b[0m\u001b[0;36m3\u001b[0m\u001b[0;34m,\u001b[0m \u001b[0;34m-\u001b[0m\u001b[0;36m2\u001b[0m\u001b[0;34m,\u001b[0m \u001b[0;34m-\u001b[0m\u001b[0;36m2\u001b[0m\u001b[0;34m,\u001b[0m \u001b[0;34m-\u001b[0m\u001b[0;36m3\u001b[0m\u001b[0;34m,\u001b[0m \u001b[0;34m-\u001b[0m\u001b[0;36m2\u001b[0m\u001b[0;34m,\u001b[0m \u001b[0;34m-\u001b[0m\u001b[0;36m1\u001b[0m\u001b[0;34m,\u001b[0m \u001b[0;34m-\u001b[0m\u001b[0;36m3\u001b[0m\u001b[0;34m,\u001b[0m \u001b[0;34m-\u001b[0m\u001b[0;36m2\u001b[0m\u001b[0;34m,\u001b[0m \u001b[0;34m-\u001b[0m\u001b[0;36m1\u001b[0m\u001b[0;34m,\u001b[0m  \u001b[0;36m0\u001b[0m\u001b[0;34m]\u001b[0m\u001b[0;34m)\u001b[0m\u001b[0;34m\u001b[0m\u001b[0;34m\u001b[0m\u001b[0m\n\u001b[0;32m----> 3\u001b[0;31m \u001b[0mnp\u001b[0m\u001b[0;34m.\u001b[0m\u001b[0mtesting\u001b[0m\u001b[0;34m.\u001b[0m\u001b[0massert_array_almost_equal\u001b[0m\u001b[0;34m(\u001b[0m\u001b[0mv\u001b[0m\u001b[0;34m,\u001b[0m \u001b[0mexpected_v\u001b[0m\u001b[0;34m,\u001b[0m \u001b[0mdecimal\u001b[0m\u001b[0;34m=\u001b[0m\u001b[0;36m2\u001b[0m\u001b[0;34m)\u001b[0m\u001b[0;34m\u001b[0m\u001b[0;34m\u001b[0m\u001b[0m\n\u001b[0m",
      "\u001b[0;32m/usr/local/lib/python3.8/site-packages/numpy/testing/_private/utils.py\u001b[0m in \u001b[0;36massert_array_almost_equal\u001b[0;34m(x, y, decimal, err_msg, verbose)\u001b[0m\n\u001b[1;32m   1043\u001b[0m         \u001b[0;32mreturn\u001b[0m \u001b[0mz\u001b[0m \u001b[0;34m<\u001b[0m \u001b[0;36m1.5\u001b[0m \u001b[0;34m*\u001b[0m \u001b[0;36m10.0\u001b[0m\u001b[0;34m**\u001b[0m\u001b[0;34m(\u001b[0m\u001b[0;34m-\u001b[0m\u001b[0mdecimal\u001b[0m\u001b[0;34m)\u001b[0m\u001b[0;34m\u001b[0m\u001b[0;34m\u001b[0m\u001b[0m\n\u001b[1;32m   1044\u001b[0m \u001b[0;34m\u001b[0m\u001b[0m\n\u001b[0;32m-> 1045\u001b[0;31m     assert_array_compare(compare, x, y, err_msg=err_msg, verbose=verbose,\n\u001b[0m\u001b[1;32m   1046\u001b[0m              \u001b[0mheader\u001b[0m\u001b[0;34m=\u001b[0m\u001b[0;34m(\u001b[0m\u001b[0;34m'Arrays are not almost equal to %d decimals'\u001b[0m \u001b[0;34m%\u001b[0m \u001b[0mdecimal\u001b[0m\u001b[0;34m)\u001b[0m\u001b[0;34m,\u001b[0m\u001b[0;34m\u001b[0m\u001b[0;34m\u001b[0m\u001b[0m\n\u001b[1;32m   1047\u001b[0m              precision=decimal)\n",
      "\u001b[0;32m/usr/local/lib/python3.8/site-packages/numpy/testing/_private/utils.py\u001b[0m in \u001b[0;36massert_array_compare\u001b[0;34m(comparison, x, y, err_msg, verbose, header, precision, equal_nan, equal_inf)\u001b[0m\n\u001b[1;32m    844\u001b[0m                                 \u001b[0mverbose\u001b[0m\u001b[0;34m=\u001b[0m\u001b[0mverbose\u001b[0m\u001b[0;34m,\u001b[0m \u001b[0mheader\u001b[0m\u001b[0;34m=\u001b[0m\u001b[0mheader\u001b[0m\u001b[0;34m,\u001b[0m\u001b[0;34m\u001b[0m\u001b[0;34m\u001b[0m\u001b[0m\n\u001b[1;32m    845\u001b[0m                                 names=('x', 'y'), precision=precision)\n\u001b[0;32m--> 846\u001b[0;31m             \u001b[0;32mraise\u001b[0m \u001b[0mAssertionError\u001b[0m\u001b[0;34m(\u001b[0m\u001b[0mmsg\u001b[0m\u001b[0;34m)\u001b[0m\u001b[0;34m\u001b[0m\u001b[0;34m\u001b[0m\u001b[0m\n\u001b[0m\u001b[1;32m    847\u001b[0m     \u001b[0;32mexcept\u001b[0m \u001b[0mValueError\u001b[0m\u001b[0;34m:\u001b[0m\u001b[0;34m\u001b[0m\u001b[0;34m\u001b[0m\u001b[0m\n\u001b[1;32m    848\u001b[0m         \u001b[0;32mimport\u001b[0m \u001b[0mtraceback\u001b[0m\u001b[0;34m\u001b[0m\u001b[0;34m\u001b[0m\u001b[0m\n",
      "\u001b[0;31mAssertionError\u001b[0m: \nArrays are not almost equal to 2 decimals\n\nMismatched elements: 1 / 16 (6.25%)\nMax absolute difference: 2.\nMax relative difference: 0.66666667\n x: array([ 0., -1., -2., -1., -1., -2., -3., -2., -2., -3., -2., -1., -3.,\n       -2., -1.,  0.])\n y: array([ 0, -1, -2, -3, -1, -2, -3, -2, -2, -3, -2, -1, -3, -2, -1,  0])"
     ]
    }
   ],
   "source": [
    "# Test de la función de valor\n",
    "expected_v = np.array([ 0, -1, -2, -3, -1, -2, -3, -2, -2, -3, -2, -1, -3, -2, -1,  0])\n",
    "np.testing.assert_array_almost_equal(v, expected_v, decimal=2)"
   ]
  },
  {
   "cell_type": "code",
   "execution_count": null,
   "metadata": {},
   "outputs": [],
   "source": []
  }
 ],
 "metadata": {
  "kernelspec": {
   "display_name": "Python 3",
   "language": "python",
   "name": "python3"
  },
  "language_info": {
   "codemirror_mode": {
    "name": "ipython",
    "version": 3
   },
   "file_extension": ".py",
   "mimetype": "text/x-python",
   "name": "python",
   "nbconvert_exporter": "python",
   "pygments_lexer": "ipython3",
   "version": "3.6.9"
  }
 },
 "nbformat": 4,
 "nbformat_minor": 1
}
