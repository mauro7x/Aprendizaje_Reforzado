{
 "cells": [
  {
   "cell_type": "markdown",
   "metadata": {},
   "source": [
    "El siguiente código simula esta cadena de markov: \n",
    "<img src=\"student-mc.PNG\">"
   ]
  },
  {
   "cell_type": "code",
   "execution_count": 5,
   "metadata": {},
   "outputs": [],
   "source": [
    "import numpy as np\n",
    "import random as r"
   ]
  },
  {
   "cell_type": "code",
   "execution_count": 6,
   "metadata": {},
   "outputs": [],
   "source": [
    "states = [\"C1\", \"C2\", \"C3\", \"fb\", \"pub\", \"pass\", \"sleep\"]\n",
    "\n",
    "state_to_index = {\"C1\":0, \"C2\":1, \"C3\":2, \"fb\":3, \"pub\":4, \"pass\":5, \"sleep\":6}\n",
    "\n",
    "p_s1_s2 = np.array(\n",
    "    # C1   C2   C3   fb   pub  pass sleep '''\n",
    "    [[0.0, 0.5, 0.0, 0.5, 0.0, 0.0, 0.0], #C1\n",
    "     [0.0, 0.0, 0.8, 0.0, 0.0, 0.0, 0.2], #C2\n",
    "     [0.0, 0.0, 0.0, 0.0, 0.4, 0.6, 0.0], #C3\n",
    "     [0.1, 0.0, 0.0, 0.9, 0.0, 0.0, 0.0], #fb\n",
    "     [0.2, 0.4, 0.4, 0.0, 0.0, 0.0, 0.0], #pub\n",
    "     [0.0, 0.0, 0.0, 0.0, 0.0, 0.0, 1.0], #pass\n",
    "     [0.0, 0.0, 0.0, 0.0, 0.0, 0.0, 1.0],]#sleep\n",
    ")"
   ]
  },
  {
   "cell_type": "code",
   "execution_count": 16,
   "metadata": {},
   "outputs": [],
   "source": [
    "state = \"C1\"\n",
    "episode = []\n",
    "while state != \"sleep\":\n",
    "    episode.append(state)\n",
    "    ind = states.index(state)\n",
    "    chosen = np.random.choice(len(states), 1, False, p_s1_s2[ind,:])\n",
    "    state = states[chosen[0]]"
   ]
  },
  {
   "cell_type": "code",
   "execution_count": 17,
   "metadata": {},
   "outputs": [
    {
     "data": {
      "text/plain": [
       "['C1', 'C2', 'C3', 'pub', 'C3', 'pass']"
      ]
     },
     "execution_count": 17,
     "metadata": {},
     "output_type": "execute_result"
    }
   ],
   "source": [
    "episode"
   ]
  },
  {
   "cell_type": "markdown",
   "metadata": {},
   "source": [
    "# Usando el código hacer los siguientes ejercicios:\n",
    "1. simular 100 episodios del estudiante\n",
    "2. calcular un estimado del tiempo de visita de cada estado\n",
    "3. calcular un estimado de la longitud media de la cadena"
   ]
  },
  {
   "cell_type": "code",
   "execution_count": 18,
   "metadata": {},
   "outputs": [],
   "source": [
    "# Funcion\n",
    "\n",
    "def simular_episodio(state=\"C1\"):\n",
    "    episode = []\n",
    "    while state != \"sleep\":\n",
    "        episode.append(state)\n",
    "        ind = states.index(state)\n",
    "        chosen = np.random.choice(len(states), 1, False, p_s1_s2[ind,:])\n",
    "        state = states[chosen[0]]\n",
    "    return episode"
   ]
  },
  {
   "cell_type": "code",
   "execution_count": 29,
   "metadata": {
    "scrolled": true
   },
   "outputs": [
    {
     "data": {
      "text/plain": [
       "['C1', 'C2']"
      ]
     },
     "execution_count": 29,
     "metadata": {},
     "output_type": "execute_result"
    }
   ],
   "source": [
    "simular_episodio()"
   ]
  },
  {
   "cell_type": "code",
   "execution_count": 48,
   "metadata": {},
   "outputs": [],
   "source": [
    "# Ejercicio 1: Simular 100 episodios del estudiante.\n",
    "\n",
    "n_episodes = 100\n",
    "episodes = []\n",
    "for i in range(n_episodes):\n",
    "    episodes.append(simular_episodio())"
   ]
  },
  {
   "cell_type": "code",
   "execution_count": 52,
   "metadata": {},
   "outputs": [
    {
     "name": "stdout",
     "output_type": "stream",
     "text": [
      "En el estado C1 se estuvo un 12.08% del tiempo.\n",
      "En el estado C2 se estuvo un 7.41% del tiempo.\n",
      "En el estado C3 se estuvo un 6.83% del tiempo.\n",
      "En el estado fb se estuvo un 66.84% del tiempo.\n",
      "En el estado pub se estuvo un 2.63% del tiempo.\n",
      "En el estado pass se estuvo un 4.2% del tiempo.\n",
      "En el estado sleep se estuvo un 0.0% del tiempo.\n"
     ]
    }
   ],
   "source": [
    "# Ejercicio 2: Calcular un estimado de tiempo de visita de cada estado.\n",
    "\n",
    "states_visited = [0 for i in range(len(states))]\n",
    "total_states = 0\n",
    "for episode in episodes:\n",
    "    for state in episode:\n",
    "        ind = state_to_index[state]\n",
    "        states_visited[ind] += 1\n",
    "        total_states += 1\n",
    "\n",
    "for i in range(len(states_visited)):\n",
    "    print(f\"En el estado {states[i]} se estuvo un {round(((states_visited[i])/(total_states))*100, 2)}% del tiempo.\")"
   ]
  },
  {
   "cell_type": "code",
   "execution_count": 53,
   "metadata": {},
   "outputs": [
    {
     "name": "stdout",
     "output_type": "stream",
     "text": [
      "La longitud media de la cadena es de 17.13 estados.\n"
     ]
    }
   ],
   "source": [
    "# Ejercicio 3: Calcular un estimado de la longitud media de la\n",
    "# cadena.\n",
    "\n",
    "total_states = 0\n",
    "for episode in episodes:\n",
    "    total_states += len(episode)\n",
    "\n",
    "print(f\"La longitud media de la cadena es de {round((total_states/len(episodes)), 2)} estados.\")\n",
    "    "
   ]
  },
  {
   "cell_type": "code",
   "execution_count": null,
   "metadata": {},
   "outputs": [],
   "source": []
  }
 ],
 "metadata": {
  "kernelspec": {
   "display_name": "Python 3",
   "language": "python",
   "name": "python3"
  },
  "language_info": {
   "codemirror_mode": {
    "name": "ipython",
    "version": 3
   },
   "file_extension": ".py",
   "mimetype": "text/x-python",
   "name": "python",
   "nbconvert_exporter": "python",
   "pygments_lexer": "ipython3",
   "version": "3.6.9"
  }
 },
 "nbformat": 4,
 "nbformat_minor": 2
}
