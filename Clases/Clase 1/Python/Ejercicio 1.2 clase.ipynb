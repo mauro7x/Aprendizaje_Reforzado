{
 "cells": [
  {
   "cell_type": "code",
   "execution_count": 109,
   "metadata": {},
   "outputs": [],
   "source": [
    "import numpy as np"
   ]
  },
  {
   "cell_type": "code",
   "execution_count": 110,
   "metadata": {},
   "outputs": [],
   "source": [
    "states = [\"1\", \"2\", \"3\"]\n",
    "\n",
    "state_to_index = {\"1\":0, \"2\":1, \"3\":2}\n",
    "rewards = {\"1\":-2, \"2\":3, \"3\":5}\n",
    "\n",
    "p_s1_s2 = np.array(\n",
    "    #  1    2    3\n",
    "    [[1/2, 1/3, 1/6], #1\n",
    "     [3/4, 0.0, 1/4], #2\n",
    "     [0.0, 1.0, 0.0]] #3\n",
    ")"
   ]
  },
  {
   "cell_type": "code",
   "execution_count": 330,
   "metadata": {},
   "outputs": [],
   "source": [
    "# Funcion\n",
    "\n",
    "def ganancia_s1_s2(state=\"1\"):\n",
    "    ind = state_to_index[state]\n",
    "    s1 = np.random.choice(len(states), 1, False, p_s1_s2[ind,:])[0]\n",
    "    s1 = states[s1]\n",
    "    r_s1 = rewards[s1]\n",
    "    \n",
    "    ind = state_to_index[s1]\n",
    "    s2 = np.random.choice(len(states), 1, False, p_s1_s2[ind,:])[0]\n",
    "    s2 = states[s2]\n",
    "    r_s2 = rewards[s2]\n",
    "    \n",
    "    return (r_s1 + r_s2)"
   ]
  },
  {
   "cell_type": "code",
   "execution_count": 338,
   "metadata": {},
   "outputs": [
    {
     "name": "stdout",
     "output_type": "stream",
     "text": [
      "La estimacion de la esperanza es: 1.68.\n"
     ]
    }
   ],
   "source": [
    "# Simulamos la esperanza de g(s1, s2):\n",
    "\n",
    "n_exp = 100000\n",
    "reward_acumulada = 0\n",
    "for i in range(n_exp):\n",
    "    reward_acumulada += ganancia_s1_s2()\n",
    "print(f\"La estimacion de la esperanza es: {round(reward_acumulada/n_exp,2)}.\")\n",
    "    "
   ]
  }
 ],
 "metadata": {
  "kernelspec": {
   "display_name": "Python 3",
   "language": "python",
   "name": "python3"
  },
  "language_info": {
   "codemirror_mode": {
    "name": "ipython",
    "version": 3
   },
   "file_extension": ".py",
   "mimetype": "text/x-python",
   "name": "python",
   "nbconvert_exporter": "python",
   "pygments_lexer": "ipython3",
   "version": "3.6.9"
  }
 },
 "nbformat": 4,
 "nbformat_minor": 2
}
